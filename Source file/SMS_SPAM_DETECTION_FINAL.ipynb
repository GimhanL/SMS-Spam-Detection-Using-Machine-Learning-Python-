{
  "nbformat": 4,
  "nbformat_minor": 0,
  "metadata": {
    "kernelspec": {
      "display_name": "Python 3",
      "language": "python",
      "name": "python3"
    },
    "language_info": {
      "codemirror_mode": {
        "name": "ipython",
        "version": 3
      },
      "file_extension": ".py",
      "mimetype": "text/x-python",
      "name": "python",
      "nbconvert_exporter": "python",
      "pygments_lexer": "ipython3",
      "version": "3.6.1"
    },
    "colab": {
      "name": "SMS SPAM DETECTION  FINAL.ipynb",
      "provenance": [],
      "collapsed_sections": []
    }
  },
  "cells": [
    {
      "cell_type": "markdown",
      "metadata": {
        "id": "ysmh8ERJ-gXN"
      },
      "source": [
        "# Pre prosseing dataset\n",
        "\n",
        "\n",
        "\n"
      ]
    },
    {
      "cell_type": "code",
      "metadata": {
        "id": "0ap1g2zXhtih"
      },
      "source": [
        "from keras.layers import SimpleRNN, Embedding, Dense,Dropout, LSTM\n",
        "from keras.models import Sequential\n",
        "import pandas as pd\n",
        "import numpy as np\n",
        "import matplotlib.pyplot as plt\n",
        "%matplotlib inline\n"
      ],
      "execution_count": 1,
      "outputs": []
    },
    {
      "cell_type": "code",
      "metadata": {
        "collapsed": true,
        "id": "IWF5Rb48htii"
      },
      "source": [
        "data = pd.read_csv(\"/content/spam.csv\", encoding=\"latin-1\")"
      ],
      "execution_count": 2,
      "outputs": []
    },
    {
      "cell_type": "code",
      "metadata": {
        "colab": {
          "base_uri": "https://localhost:8080/",
          "height": 664
        },
        "id": "Rp6Vhey1i6RS",
        "outputId": "aa9d61db-50bc-4c15-c3be-1f0855777316"
      },
      "source": [
        "data.head(20)"
      ],
      "execution_count": 3,
      "outputs": [
        {
          "output_type": "execute_result",
          "data": {
            "text/html": [
              "<div>\n",
              "<style scoped>\n",
              "    .dataframe tbody tr th:only-of-type {\n",
              "        vertical-align: middle;\n",
              "    }\n",
              "\n",
              "    .dataframe tbody tr th {\n",
              "        vertical-align: top;\n",
              "    }\n",
              "\n",
              "    .dataframe thead th {\n",
              "        text-align: right;\n",
              "    }\n",
              "</style>\n",
              "<table border=\"1\" class=\"dataframe\">\n",
              "  <thead>\n",
              "    <tr style=\"text-align: right;\">\n",
              "      <th></th>\n",
              "      <th>v1</th>\n",
              "      <th>v2</th>\n",
              "      <th>Unnamed: 2</th>\n",
              "      <th>Unnamed: 3</th>\n",
              "      <th>Unnamed: 4</th>\n",
              "    </tr>\n",
              "  </thead>\n",
              "  <tbody>\n",
              "    <tr>\n",
              "      <th>0</th>\n",
              "      <td>ham</td>\n",
              "      <td>Go until jurong point, crazy.. Available only ...</td>\n",
              "      <td>NaN</td>\n",
              "      <td>NaN</td>\n",
              "      <td>NaN</td>\n",
              "    </tr>\n",
              "    <tr>\n",
              "      <th>1</th>\n",
              "      <td>ham</td>\n",
              "      <td>Ok lar... Joking wif u oni...</td>\n",
              "      <td>NaN</td>\n",
              "      <td>NaN</td>\n",
              "      <td>NaN</td>\n",
              "    </tr>\n",
              "    <tr>\n",
              "      <th>2</th>\n",
              "      <td>spam</td>\n",
              "      <td>Free entry in 2 a wkly comp to win FA Cup fina...</td>\n",
              "      <td>NaN</td>\n",
              "      <td>NaN</td>\n",
              "      <td>NaN</td>\n",
              "    </tr>\n",
              "    <tr>\n",
              "      <th>3</th>\n",
              "      <td>ham</td>\n",
              "      <td>U dun say so early hor... U c already then say...</td>\n",
              "      <td>NaN</td>\n",
              "      <td>NaN</td>\n",
              "      <td>NaN</td>\n",
              "    </tr>\n",
              "    <tr>\n",
              "      <th>4</th>\n",
              "      <td>ham</td>\n",
              "      <td>Nah I don't think he goes to usf, he lives aro...</td>\n",
              "      <td>NaN</td>\n",
              "      <td>NaN</td>\n",
              "      <td>NaN</td>\n",
              "    </tr>\n",
              "    <tr>\n",
              "      <th>5</th>\n",
              "      <td>spam</td>\n",
              "      <td>FreeMsg Hey there darling it's been 3 week's n...</td>\n",
              "      <td>NaN</td>\n",
              "      <td>NaN</td>\n",
              "      <td>NaN</td>\n",
              "    </tr>\n",
              "    <tr>\n",
              "      <th>6</th>\n",
              "      <td>ham</td>\n",
              "      <td>Even my brother is not like to speak with me. ...</td>\n",
              "      <td>NaN</td>\n",
              "      <td>NaN</td>\n",
              "      <td>NaN</td>\n",
              "    </tr>\n",
              "    <tr>\n",
              "      <th>7</th>\n",
              "      <td>ham</td>\n",
              "      <td>As per your request 'Melle Melle (Oru Minnamin...</td>\n",
              "      <td>NaN</td>\n",
              "      <td>NaN</td>\n",
              "      <td>NaN</td>\n",
              "    </tr>\n",
              "    <tr>\n",
              "      <th>8</th>\n",
              "      <td>spam</td>\n",
              "      <td>WINNER!! As a valued network customer you have...</td>\n",
              "      <td>NaN</td>\n",
              "      <td>NaN</td>\n",
              "      <td>NaN</td>\n",
              "    </tr>\n",
              "    <tr>\n",
              "      <th>9</th>\n",
              "      <td>spam</td>\n",
              "      <td>Had your mobile 11 months or more? U R entitle...</td>\n",
              "      <td>NaN</td>\n",
              "      <td>NaN</td>\n",
              "      <td>NaN</td>\n",
              "    </tr>\n",
              "    <tr>\n",
              "      <th>10</th>\n",
              "      <td>ham</td>\n",
              "      <td>I'm gonna be home soon and i don't want to tal...</td>\n",
              "      <td>NaN</td>\n",
              "      <td>NaN</td>\n",
              "      <td>NaN</td>\n",
              "    </tr>\n",
              "    <tr>\n",
              "      <th>11</th>\n",
              "      <td>spam</td>\n",
              "      <td>SIX chances to win CASH! From 100 to 20,000 po...</td>\n",
              "      <td>NaN</td>\n",
              "      <td>NaN</td>\n",
              "      <td>NaN</td>\n",
              "    </tr>\n",
              "    <tr>\n",
              "      <th>12</th>\n",
              "      <td>spam</td>\n",
              "      <td>URGENT! You have won a 1 week FREE membership ...</td>\n",
              "      <td>NaN</td>\n",
              "      <td>NaN</td>\n",
              "      <td>NaN</td>\n",
              "    </tr>\n",
              "    <tr>\n",
              "      <th>13</th>\n",
              "      <td>ham</td>\n",
              "      <td>I've been searching for the right words to tha...</td>\n",
              "      <td>NaN</td>\n",
              "      <td>NaN</td>\n",
              "      <td>NaN</td>\n",
              "    </tr>\n",
              "    <tr>\n",
              "      <th>14</th>\n",
              "      <td>ham</td>\n",
              "      <td>I HAVE A DATE ON SUNDAY WITH WILL!!</td>\n",
              "      <td>NaN</td>\n",
              "      <td>NaN</td>\n",
              "      <td>NaN</td>\n",
              "    </tr>\n",
              "    <tr>\n",
              "      <th>15</th>\n",
              "      <td>spam</td>\n",
              "      <td>XXXMobileMovieClub: To use your credit, click ...</td>\n",
              "      <td>NaN</td>\n",
              "      <td>NaN</td>\n",
              "      <td>NaN</td>\n",
              "    </tr>\n",
              "    <tr>\n",
              "      <th>16</th>\n",
              "      <td>ham</td>\n",
              "      <td>Oh k...i'm watching here:)</td>\n",
              "      <td>NaN</td>\n",
              "      <td>NaN</td>\n",
              "      <td>NaN</td>\n",
              "    </tr>\n",
              "    <tr>\n",
              "      <th>17</th>\n",
              "      <td>ham</td>\n",
              "      <td>Eh u remember how 2 spell his name... Yes i di...</td>\n",
              "      <td>NaN</td>\n",
              "      <td>NaN</td>\n",
              "      <td>NaN</td>\n",
              "    </tr>\n",
              "    <tr>\n",
              "      <th>18</th>\n",
              "      <td>ham</td>\n",
              "      <td>Fine if thatåÕs the way u feel. ThatåÕs the wa...</td>\n",
              "      <td>NaN</td>\n",
              "      <td>NaN</td>\n",
              "      <td>NaN</td>\n",
              "    </tr>\n",
              "    <tr>\n",
              "      <th>19</th>\n",
              "      <td>spam</td>\n",
              "      <td>England v Macedonia - dont miss the goals/team...</td>\n",
              "      <td>NaN</td>\n",
              "      <td>NaN</td>\n",
              "      <td>NaN</td>\n",
              "    </tr>\n",
              "  </tbody>\n",
              "</table>\n",
              "</div>"
            ],
            "text/plain": [
              "      v1  ... Unnamed: 4\n",
              "0    ham  ...        NaN\n",
              "1    ham  ...        NaN\n",
              "2   spam  ...        NaN\n",
              "3    ham  ...        NaN\n",
              "4    ham  ...        NaN\n",
              "5   spam  ...        NaN\n",
              "6    ham  ...        NaN\n",
              "7    ham  ...        NaN\n",
              "8   spam  ...        NaN\n",
              "9   spam  ...        NaN\n",
              "10   ham  ...        NaN\n",
              "11  spam  ...        NaN\n",
              "12  spam  ...        NaN\n",
              "13   ham  ...        NaN\n",
              "14   ham  ...        NaN\n",
              "15  spam  ...        NaN\n",
              "16   ham  ...        NaN\n",
              "17   ham  ...        NaN\n",
              "18   ham  ...        NaN\n",
              "19  spam  ...        NaN\n",
              "\n",
              "[20 rows x 5 columns]"
            ]
          },
          "metadata": {
            "tags": []
          },
          "execution_count": 3
        }
      ]
    },
    {
      "cell_type": "code",
      "metadata": {
        "id": "lxhNYBjkjANr"
      },
      "source": [
        "data = data.drop([\"Unnamed: 2\", \"Unnamed: 3\", \"Unnamed: 4\"], axis=1)\n",
        "data = data.rename(columns={\"v1\":\"Category\", \"v2\":\"Message\"})"
      ],
      "execution_count": 4,
      "outputs": []
    },
    {
      "cell_type": "code",
      "metadata": {
        "id": "ep6dvCGTsUO1"
      },
      "source": [
        "data[\"Message\"] = data[\"Message\"].str.lower()"
      ],
      "execution_count": 5,
      "outputs": []
    },
    {
      "cell_type": "code",
      "metadata": {
        "colab": {
          "base_uri": "https://localhost:8080/"
        },
        "id": "tj2TdshYI6cT",
        "outputId": "d0816ea4-6c31-4ef3-8fea-9bbd3f899262"
      },
      "source": [
        "data['Category'] = data['Category'].map(\n",
        "                   {'ham':0 ,'spam':1})\n",
        "\n",
        "labels=np.asarray(data['Category'])\n",
        "texts=np.asarray(data['Message'])\n",
        "\n",
        "\n",
        "print(\"number of texts :\" , len(texts))\n",
        "print(\"number of labels: \", len(labels))"
      ],
      "execution_count": 6,
      "outputs": [
        {
          "output_type": "stream",
          "text": [
            "number of texts : 5572\n",
            "number of labels:  5572\n"
          ],
          "name": "stdout"
        }
      ]
    },
    {
      "cell_type": "code",
      "metadata": {
        "colab": {
          "base_uri": "https://localhost:8080/",
          "height": 416
        },
        "id": "3y_i3Pd7htii",
        "outputId": "4f75a957-de44-440e-d4fb-df215bdbcdd3"
      },
      "source": [
        "data"
      ],
      "execution_count": 7,
      "outputs": [
        {
          "output_type": "execute_result",
          "data": {
            "text/html": [
              "<div>\n",
              "<style scoped>\n",
              "    .dataframe tbody tr th:only-of-type {\n",
              "        vertical-align: middle;\n",
              "    }\n",
              "\n",
              "    .dataframe tbody tr th {\n",
              "        vertical-align: top;\n",
              "    }\n",
              "\n",
              "    .dataframe thead th {\n",
              "        text-align: right;\n",
              "    }\n",
              "</style>\n",
              "<table border=\"1\" class=\"dataframe\">\n",
              "  <thead>\n",
              "    <tr style=\"text-align: right;\">\n",
              "      <th></th>\n",
              "      <th>Category</th>\n",
              "      <th>Message</th>\n",
              "    </tr>\n",
              "  </thead>\n",
              "  <tbody>\n",
              "    <tr>\n",
              "      <th>0</th>\n",
              "      <td>0</td>\n",
              "      <td>go until jurong point, crazy.. available only ...</td>\n",
              "    </tr>\n",
              "    <tr>\n",
              "      <th>1</th>\n",
              "      <td>0</td>\n",
              "      <td>ok lar... joking wif u oni...</td>\n",
              "    </tr>\n",
              "    <tr>\n",
              "      <th>2</th>\n",
              "      <td>1</td>\n",
              "      <td>free entry in 2 a wkly comp to win fa cup fina...</td>\n",
              "    </tr>\n",
              "    <tr>\n",
              "      <th>3</th>\n",
              "      <td>0</td>\n",
              "      <td>u dun say so early hor... u c already then say...</td>\n",
              "    </tr>\n",
              "    <tr>\n",
              "      <th>4</th>\n",
              "      <td>0</td>\n",
              "      <td>nah i don't think he goes to usf, he lives aro...</td>\n",
              "    </tr>\n",
              "    <tr>\n",
              "      <th>...</th>\n",
              "      <td>...</td>\n",
              "      <td>...</td>\n",
              "    </tr>\n",
              "    <tr>\n",
              "      <th>5567</th>\n",
              "      <td>1</td>\n",
              "      <td>this is the 2nd time we have tried 2 contact u...</td>\n",
              "    </tr>\n",
              "    <tr>\n",
              "      <th>5568</th>\n",
              "      <td>0</td>\n",
              "      <td>will ì_ b going to esplanade fr home?</td>\n",
              "    </tr>\n",
              "    <tr>\n",
              "      <th>5569</th>\n",
              "      <td>0</td>\n",
              "      <td>pity, * was in mood for that. so...any other s...</td>\n",
              "    </tr>\n",
              "    <tr>\n",
              "      <th>5570</th>\n",
              "      <td>0</td>\n",
              "      <td>the guy did some bitching but i acted like i'd...</td>\n",
              "    </tr>\n",
              "    <tr>\n",
              "      <th>5571</th>\n",
              "      <td>0</td>\n",
              "      <td>rofl. its true to its name</td>\n",
              "    </tr>\n",
              "  </tbody>\n",
              "</table>\n",
              "<p>5572 rows × 2 columns</p>\n",
              "</div>"
            ],
            "text/plain": [
              "      Category                                            Message\n",
              "0            0  go until jurong point, crazy.. available only ...\n",
              "1            0                      ok lar... joking wif u oni...\n",
              "2            1  free entry in 2 a wkly comp to win fa cup fina...\n",
              "3            0  u dun say so early hor... u c already then say...\n",
              "4            0  nah i don't think he goes to usf, he lives aro...\n",
              "...        ...                                                ...\n",
              "5567         1  this is the 2nd time we have tried 2 contact u...\n",
              "5568         0              will ì_ b going to esplanade fr home?\n",
              "5569         0  pity, * was in mood for that. so...any other s...\n",
              "5570         0  the guy did some bitching but i acted like i'd...\n",
              "5571         0                         rofl. its true to its name\n",
              "\n",
              "[5572 rows x 2 columns]"
            ]
          },
          "metadata": {
            "tags": []
          },
          "execution_count": 7
        }
      ]
    },
    {
      "cell_type": "code",
      "metadata": {
        "colab": {
          "base_uri": "https://localhost:8080/"
        },
        "id": "uEGoHY4Hhtij",
        "outputId": "bb686ec0-84d8-4de3-e243-db41e308cc28"
      },
      "source": [
        "\n",
        "from keras.preprocessing.text import Tokenizer\n",
        "from keras.preprocessing.sequence import pad_sequences\n",
        "\n",
        "max_features = 10000 #the size of the random subsets of features to consider when splitting a node.\n",
        "maxlen = 500 #the length of all tokenized sms post-padding is set using ‘max_len’\n",
        "\n",
        "training_samples = int(5572 * .8)#80 data set for training\n",
        "validation_samples = int(5572 - training_samples)#20 pecent for validation\n",
        "\n",
        "tokenizer = Tokenizer()\n",
        "tokenizer.fit_on_texts(texts)\n",
        "sequences = tokenizer.texts_to_sequences(texts)\n",
        "\n",
        "word_index = tokenizer.word_index\n",
        "print(\"Found {0} unique words: \".format(len(word_index)))\n",
        "\n",
        "data = pad_sequences(sequences, maxlen=maxlen)\n",
        "\n",
        "print(\"data shape: \", data.shape)\n",
        "\n",
        "# shuffling data\n",
        "indices = np.arange(data.shape[0])\n",
        "np.random.shuffle(indices)\n",
        "data = data[indices]\n",
        "labels = labels[indices]\n",
        "\n",
        "\n",
        "x_train = data[:training_samples]\n",
        "y_train = labels[:training_samples]\n",
        "x_test = data[training_samples:]\n",
        "y_test = labels[training_samples:]"
      ],
      "execution_count": 8,
      "outputs": [
        {
          "output_type": "stream",
          "text": [
            "Found 8920 unique words: \n",
            "data shape:  (5572, 500)\n"
          ],
          "name": "stdout"
        }
      ]
    },
    {
      "cell_type": "markdown",
      "metadata": {
        "id": "RaKZoKqRD_dF"
      },
      "source": [
        "**RNN MODEL**"
      ]
    },
    {
      "cell_type": "code",
      "metadata": {
        "colab": {
          "base_uri": "https://localhost:8080/"
        },
        "id": "yJ1FYLDAEGys",
        "outputId": "b20599f0-7b95-4f8d-e4ba-490ce03a0357"
      },
      "source": [
        "model = Sequential()#input layer\n",
        "model.add(Embedding(max_features, 32))#The embedding layer\n",
        "model.add(SimpleRNN(32))#RNN LAYER\n",
        "model.add(Dropout(0.2))# drop out layer\n",
        "model.add(Dense(1, activation='softmax'))#outer layer\n",
        "\n",
        "model.compile(optimizer='rmsprop', loss='binary_crossentropy', metrics=['accuracy'])\n",
        "history_rnn = model.fit(x_train, y_train, epochs=10, batch_size=60,validation_split=0.2)"
      ],
      "execution_count": 9,
      "outputs": [
        {
          "output_type": "stream",
          "text": [
            "Epoch 1/10\n",
            "60/60 [==============================] - 29s 126ms/step - loss: 0.3851 - accuracy: 0.1306 - val_loss: 0.1468 - val_accuracy: 0.1345\n",
            "Epoch 2/10\n",
            "60/60 [==============================] - 7s 113ms/step - loss: 0.1333 - accuracy: 0.1341 - val_loss: 0.0688 - val_accuracy: 0.1345\n",
            "Epoch 3/10\n",
            "60/60 [==============================] - 7s 115ms/step - loss: 0.0682 - accuracy: 0.1435 - val_loss: 0.0469 - val_accuracy: 0.1345\n",
            "Epoch 4/10\n",
            "60/60 [==============================] - 7s 113ms/step - loss: 0.2777 - accuracy: 0.1304 - val_loss: 0.1490 - val_accuracy: 0.1345\n",
            "Epoch 5/10\n",
            "60/60 [==============================] - 7s 114ms/step - loss: 0.1686 - accuracy: 0.1390 - val_loss: 0.2206 - val_accuracy: 0.1345\n",
            "Epoch 6/10\n",
            "60/60 [==============================] - 7s 115ms/step - loss: 0.1065 - accuracy: 0.1367 - val_loss: 0.0679 - val_accuracy: 0.1345\n",
            "Epoch 7/10\n",
            "60/60 [==============================] - 7s 116ms/step - loss: 0.0384 - accuracy: 0.1324 - val_loss: 0.0505 - val_accuracy: 0.1345\n",
            "Epoch 8/10\n",
            "60/60 [==============================] - 7s 115ms/step - loss: 0.0243 - accuracy: 0.1311 - val_loss: 0.0403 - val_accuracy: 0.1345\n",
            "Epoch 9/10\n",
            "60/60 [==============================] - 7s 122ms/step - loss: 0.0142 - accuracy: 0.1412 - val_loss: 0.0336 - val_accuracy: 0.1345\n",
            "Epoch 10/10\n",
            "60/60 [==============================] - 7s 120ms/step - loss: 0.0073 - accuracy: 0.1366 - val_loss: 0.0402 - val_accuracy: 0.1345\n"
          ],
          "name": "stdout"
        }
      ]
    },
    {
      "cell_type": "code",
      "metadata": {
        "colab": {
          "base_uri": "https://localhost:8080/"
        },
        "id": "MU-YAahJFrqx",
        "outputId": "17a87946-438a-47cd-e173-2cd483cc9cca"
      },
      "source": [
        "score,acc = model.evaluate(x_test, y_test, verbose = 2, batch_size = 100)\n",
        "print(\"score: %.2f\" % (score))\n",
        "print(\"accuracy: %.2f\" % (acc))"
      ],
      "execution_count": 10,
      "outputs": [
        {
          "output_type": "stream",
          "text": [
            "12/12 - 0s - loss: 0.0472 - accuracy: 0.1327\n",
            "score: 0.05\n",
            "accuracy: 0.13\n"
          ],
          "name": "stdout"
        }
      ]
    },
    {
      "cell_type": "code",
      "metadata": {
        "id": "9ZZ4v4x4lVHr"
      },
      "source": [
        "y_pred=model.predict(x_test)"
      ],
      "execution_count": 11,
      "outputs": []
    },
    {
      "cell_type": "code",
      "metadata": {
        "colab": {
          "base_uri": "https://localhost:8080/"
        },
        "id": "lRS_xonKlKD8",
        "outputId": "2fba7bfb-7f8f-46fd-9bec-7430d337d945"
      },
      "source": [
        "\n",
        "from sklearn.metrics import f1_score\n",
        "from sklearn.metrics import precision_score\n",
        "from sklearn.metrics import recall_score\n",
        "print('f1 score: ', format(f1_score(y_test,y_pred)))\n",
        "print('presision score: ', format( precision_score(y_test,y_pred)))\n",
        "print('recall score: ', format(recall_score(y_test,y_pred)))"
      ],
      "execution_count": 12,
      "outputs": [
        {
          "output_type": "stream",
          "text": [
            "f1 score:  0.2343626286619161\n",
            "presision score:  0.13273542600896862\n",
            "recall score:  1.0\n"
          ],
          "name": "stdout"
        }
      ]
    },
    {
      "cell_type": "markdown",
      "metadata": {
        "id": "4rWIR_ob74nx"
      },
      "source": [
        "# Tuned RNN model"
      ]
    },
    {
      "cell_type": "code",
      "metadata": {
        "colab": {
          "base_uri": "https://localhost:8080/"
        },
        "id": "-OgQDKZbhtik",
        "outputId": "0cb856eb-6353-4c3b-8e14-c0bc5199c62c"
      },
      "source": [
        "\n",
        "model = Sequential()#input layer\n",
        "model.add(Embedding(max_features, 32))#The embedding layer\n",
        "model.add(SimpleRNN(32))#RNN LAYER\n",
        "model.add(Dropout(0.2))# drop out layer\n",
        "model.add(Dense(1, activation='sigmoid'))#outer layer\n",
        "\n",
        "model.compile(optimizer='adam', loss='binary_crossentropy', metrics=['accuracy'])\n",
        "history_rnn = model.fit(x_train, y_train, epochs=6, batch_size=60,validation_split=0.2)"
      ],
      "execution_count": 13,
      "outputs": [
        {
          "output_type": "stream",
          "text": [
            "Epoch 1/6\n",
            "60/60 [==============================] - 9s 128ms/step - loss: 0.4805 - accuracy: 0.8586 - val_loss: 0.3219 - val_accuracy: 0.8655\n",
            "Epoch 2/6\n",
            "60/60 [==============================] - 7s 118ms/step - loss: 0.2161 - accuracy: 0.9305 - val_loss: 0.0698 - val_accuracy: 0.9899\n",
            "Epoch 3/6\n",
            "60/60 [==============================] - 7s 118ms/step - loss: 0.0669 - accuracy: 0.9876 - val_loss: 0.0442 - val_accuracy: 0.9910\n",
            "Epoch 4/6\n",
            "60/60 [==============================] - 7s 118ms/step - loss: 0.0281 - accuracy: 0.9971 - val_loss: 0.0393 - val_accuracy: 0.9899\n",
            "Epoch 5/6\n",
            "60/60 [==============================] - 7s 117ms/step - loss: 0.0194 - accuracy: 0.9973 - val_loss: 0.0348 - val_accuracy: 0.9922\n",
            "Epoch 6/6\n",
            "60/60 [==============================] - 7s 118ms/step - loss: 0.0100 - accuracy: 0.9992 - val_loss: 0.0406 - val_accuracy: 0.9877\n"
          ],
          "name": "stdout"
        }
      ]
    },
    {
      "cell_type": "code",
      "metadata": {
        "colab": {
          "base_uri": "https://localhost:8080/"
        },
        "id": "1Izi7kUaK9QW",
        "outputId": "e65156bc-777a-46a4-856b-4883391917e3"
      },
      "source": [
        "score,acc = model.evaluate(x_test, y_test, verbose = 2, batch_size = 100)\n",
        "print(\"score: %.2f\" % (score))\n",
        "print(\"acc: %.2f\" % (acc))"
      ],
      "execution_count": 14,
      "outputs": [
        {
          "output_type": "stream",
          "text": [
            "12/12 - 0s - loss: 0.0392 - accuracy: 0.9892\n",
            "score: 0.04\n",
            "acc: 0.99\n"
          ],
          "name": "stdout"
        }
      ]
    },
    {
      "cell_type": "code",
      "metadata": {
        "colab": {
          "base_uri": "https://localhost:8080/",
          "height": 544
        },
        "id": "0b18GmIChtik",
        "outputId": "4546f7a5-28f7-4433-b0e1-ca46543b251a"
      },
      "source": [
        "acc = history_rnn.history['accuracy']\n",
        "val_acc = history_rnn.history['val_accuracy']\n",
        "loss = history_rnn.history['loss']\n",
        "val_loss = history_rnn.history['val_loss']\n",
        "epochs = range(len(acc))\n",
        "plt.plot(epochs, acc, '-', color='orange', label='training acc')\n",
        "plt.plot(epochs, val_acc, '-', color='blue', label='validation acc')\n",
        "plt.title('Training and validation accuracy')\n",
        "plt.legend()\n",
        "plt.show()\n",
        "\n",
        "plt.plot(epochs, loss, '-', color='orange', label='training loss')\n",
        "plt.plot(epochs, val_loss,  '-', color='blue', label='validation loss')\n",
        "plt.title('Training and validation loss')\n",
        "plt.legend()\n",
        "plt.show()"
      ],
      "execution_count": 15,
      "outputs": [
        {
          "output_type": "display_data",
          "data": {
            "image/png": "[encoded data removed]",
            "text/plain": [
              "<Figure size 432x288 with 1 Axes>"
            ]
          },
          "metadata": {
            "tags": [],
            "needs_background": "light"
          }
        },
        {
          "output_type": "display_data",
          "data": {
            "image/png": "[encoded data removed]",
            "text/plain": [
              "<Figure size 432x288 with 1 Axes>"
            ]
          },
          "metadata": {
            "tags": [],
            "needs_background": "light"
          }
        }
      ]
    },
    {
      "cell_type": "markdown",
      "metadata": {
        "id": "C6v970vmhtil"
      },
      "source": [
        "# LTSM model"
      ]
    },
    {
      "cell_type": "code",
      "metadata": {
        "colab": {
          "base_uri": "https://localhost:8080/"
        },
        "id": "nDaK43sk8CAP",
        "outputId": "87551753-ab8e-40dd-eca5-757a814bee13"
      },
      "source": [
        "model = Sequential()#input layer\n",
        "model.add(Embedding(max_features, 32))#The embedding layer\n",
        "model.add(LSTM(32))#LSTM LAYER\n",
        "model.add(Dense(1, activation='softmax'))#outer layer\n",
        "model.compile(optimizer='rmsprop', loss='binary_crossentropy', metrics=['accuracy'])\n",
        "history_ltsm = model.fit(x_train, y_train, epochs=10, batch_size=60, validation_split=0.2)\n",
        "\n"
      ],
      "execution_count": 16,
      "outputs": [
        {
          "output_type": "stream",
          "text": [
            "Epoch 1/10\n",
            "60/60 [==============================] - 19s 250ms/step - loss: 0.4363 - accuracy: 0.1325 - val_loss: 0.1404 - val_accuracy: 0.1345\n",
            "Epoch 2/10\n",
            "60/60 [==============================] - 14s 240ms/step - loss: 0.1379 - accuracy: 0.1360 - val_loss: 0.0637 - val_accuracy: 0.1345\n",
            "Epoch 3/10\n",
            "60/60 [==============================] - 14s 240ms/step - loss: 0.0646 - accuracy: 0.1392 - val_loss: 0.0394 - val_accuracy: 0.1345\n",
            "Epoch 4/10\n",
            "60/60 [==============================] - 14s 240ms/step - loss: 0.0409 - accuracy: 0.1302 - val_loss: 0.0333 - val_accuracy: 0.1345\n",
            "Epoch 5/10\n",
            "60/60 [==============================] - 14s 238ms/step - loss: 0.0269 - accuracy: 0.1389 - val_loss: 0.0303 - val_accuracy: 0.1345\n",
            "Epoch 6/10\n",
            "60/60 [==============================] - 15s 243ms/step - loss: 0.0223 - accuracy: 0.1444 - val_loss: 0.0364 - val_accuracy: 0.1345\n",
            "Epoch 7/10\n",
            "60/60 [==============================] - 14s 238ms/step - loss: 0.0111 - accuracy: 0.1419 - val_loss: 0.0431 - val_accuracy: 0.1345\n",
            "Epoch 8/10\n",
            "60/60 [==============================] - 14s 232ms/step - loss: 0.0078 - accuracy: 0.1360 - val_loss: 0.0322 - val_accuracy: 0.1345\n",
            "Epoch 9/10\n",
            "60/60 [==============================] - 14s 238ms/step - loss: 0.0072 - accuracy: 0.1330 - val_loss: 0.0395 - val_accuracy: 0.1345\n",
            "Epoch 10/10\n",
            "60/60 [==============================] - 14s 236ms/step - loss: 0.0030 - accuracy: 0.1266 - val_loss: 0.0541 - val_accuracy: 0.1345\n"
          ],
          "name": "stdout"
        }
      ]
    },
    {
      "cell_type": "code",
      "metadata": {
        "colab": {
          "base_uri": "https://localhost:8080/"
        },
        "id": "y8H6ge779ryF",
        "outputId": "6cddb6c2-9363-417c-dc02-f1a2478f7892"
      },
      "source": [
        "score,acc = model.evaluate(x_test, y_test, verbose = 2, batch_size = 100)\n",
        "print(\"score: %.2f\" % (score))\n",
        "print(\"acc: %.2f\" % (acc))"
      ],
      "execution_count": 17,
      "outputs": [
        {
          "output_type": "stream",
          "text": [
            "12/12 - 1s - loss: 0.0353 - accuracy: 0.1327\n",
            "score: 0.04\n",
            "acc: 0.13\n"
          ],
          "name": "stdout"
        }
      ]
    },
    {
      "cell_type": "markdown",
      "metadata": {
        "id": "_iN6Mn1vpWQG"
      },
      "source": [
        "# TUNED LSTM"
      ]
    },
    {
      "cell_type": "code",
      "metadata": {
        "colab": {
          "base_uri": "https://localhost:8080/"
        },
        "id": "nnamEh7vhtim",
        "cellView": "code",
        "outputId": "e6ba05e8-a74c-4332-b389-60ce4da242e7"
      },
      "source": [
        "#@title Default title text\n",
        "model = Sequential()#input layer\n",
        "model.add(Embedding(max_features, 32))#The embedding layer\n",
        "model.add(LSTM(32))#LSTM LAYER\n",
        "model.add(Dropout(0.2))# drop out layer\n",
        "model.add(Dense(1, activation='sigmoid'))#outer layer\n",
        "\n",
        "model.compile(optimizer='adam', loss='binary_crossentropy', metrics=['accuracy'])\n",
        "history_ltsm = model.fit(x_train, y_train, epochs=6, batch_size=60,validation_split=0.2)"
      ],
      "execution_count": 18,
      "outputs": [
        {
          "output_type": "stream",
          "text": [
            "Epoch 1/6\n",
            "60/60 [==============================] - 17s 252ms/step - loss: 0.5303 - accuracy: 0.8333 - val_loss: 0.2017 - val_accuracy: 0.9406\n",
            "Epoch 2/6\n",
            "60/60 [==============================] - 15s 242ms/step - loss: 0.1557 - accuracy: 0.9605 - val_loss: 0.0627 - val_accuracy: 0.9865\n",
            "Epoch 3/6\n",
            "60/60 [==============================] - 14s 241ms/step - loss: 0.0614 - accuracy: 0.9860 - val_loss: 0.0559 - val_accuracy: 0.9888\n",
            "Epoch 4/6\n",
            "60/60 [==============================] - 15s 243ms/step - loss: 0.0308 - accuracy: 0.9948 - val_loss: 0.0298 - val_accuracy: 0.9933\n",
            "Epoch 5/6\n",
            "60/60 [==============================] - 14s 242ms/step - loss: 0.0178 - accuracy: 0.9968 - val_loss: 0.0379 - val_accuracy: 0.9899\n",
            "Epoch 6/6\n",
            "60/60 [==============================] - 14s 241ms/step - loss: 0.0130 - accuracy: 0.9991 - val_loss: 0.0292 - val_accuracy: 0.9933\n"
          ],
          "name": "stdout"
        }
      ]
    },
    {
      "cell_type": "code",
      "metadata": {
        "colab": {
          "base_uri": "https://localhost:8080/"
        },
        "id": "KzR28E3IkwgT",
        "outputId": "645d6ca0-70c4-49c4-fbb5-d046517868db"
      },
      "source": [
        "score,acc = model.evaluate(x_test, y_test, verbose = 2, batch_size = 100)\n",
        "print(\"score: %.2f\" % (score))\n",
        "print(\"acc: %.2f\" % (acc))"
      ],
      "execution_count": 19,
      "outputs": [
        {
          "output_type": "stream",
          "text": [
            "12/12 - 1s - loss: 0.0283 - accuracy: 0.9928\n",
            "score: 0.03\n",
            "acc: 0.99\n"
          ],
          "name": "stdout"
        }
      ]
    },
    {
      "cell_type": "code",
      "metadata": {
        "id": "hLTWC84rodlk"
      },
      "source": [
        "y_pred=model.predict(x_test)"
      ],
      "execution_count": 20,
      "outputs": []
    },
    {
      "cell_type": "code",
      "metadata": {
        "colab": {
          "base_uri": "https://localhost:8080/"
        },
        "id": "gjmjE1rT1Nst",
        "outputId": "89a57bee-3a00-4675-9ea9-929098a0b9b2"
      },
      "source": [
        "model.save(\"model.h5\")\n",
        "print(\"Saved model to disk\")"
      ],
      "execution_count": 21,
      "outputs": [
        {
          "output_type": "stream",
          "text": [
            "Saved model to disk\n"
          ],
          "name": "stdout"
        }
      ]
    },
    {
      "cell_type": "code",
      "metadata": {
        "id": "NMSZDSw71Sua"
      },
      "source": [
        "import keras\n",
        "import re\n",
        "from keras.preprocessing import sequence\n",
        "from keras.preprocessing.sequence import pad_sequences\n",
        "load_model=keras.models.load_model(\"/content/model.h5\")\n"
      ],
      "execution_count": 22,
      "outputs": []
    },
    {
      "cell_type": "code",
      "metadata": {
        "colab": {
          "base_uri": "https://localhost:8080/"
        },
        "id": "o0ckg9DeEENb",
        "cellView": "form",
        "outputId": "6c8d8968-1962-4960-a13e-119e9a616197"
      },
      "source": [
        "#@title Interface { run: \"auto\", vertical-output: true }\n",
        "\n",
        "\n",
        "test = 'Please call our customer service representative on FREEPHONE 0808 145 4742 between 9am-11pm as you have WON a guaranteed \\xC3\\xA5\\xC2\\xA31000 cash or \\xC3\\xA5\\xC2\\xA35000 prize!' #@param {type: \"string\"}\n",
        "\n",
        "test=[(test)]\n",
        "seq = tokenizer.texts_to_sequences(test)\n",
        "padded = sequence.pad_sequences(seq, maxlen=1000)\n",
        "pred = load_model.predict(padded)\n",
        "print(\"pred\", pred)\n",
        "if pred <0.5:\n",
        "  \n",
        "  print(\"ham\")\n",
        "    \n",
        "else:\n",
        "  \n",
        "    print(\"spam\")"
      ],
      "execution_count": 23,
      "outputs": [
        {
          "output_type": "stream",
          "text": [
            "pred [[0.98942924]]\n",
            "spam\n"
          ],
          "name": "stdout"
        }
      ]
    },
    {
      "cell_type": "code",
      "metadata": {
        "colab": {
          "base_uri": "https://localhost:8080/",
          "height": 544
        },
        "id": "mvkpxhYVhtim",
        "outputId": "948b68a5-349a-4c57-d491-6f1950c7241a"
      },
      "source": [
        "acc = history_ltsm.history['accuracy']\n",
        "val_acc = history_ltsm.history['val_accuracy']\n",
        "loss = history_ltsm.history['loss']\n",
        "val_loss = history_ltsm.history['val_loss']\n",
        "epochs = range(len(acc))\n",
        "plt.plot(epochs, acc, '-', color='orange', label='training acc')\n",
        "plt.plot(epochs, val_acc, '-', color='blue', label='validation acc')\n",
        "plt.title('Training and validation accuracy')\n",
        "plt.legend()\n",
        "plt.show()\n",
        "\n",
        "plt.plot(epochs, loss, '-', color='orange', label='training loss')\n",
        "plt.plot(epochs, val_loss,  '-', color='blue', label='validation loss')\n",
        "plt.title('Training and validation loss')\n",
        "plt.legend()\n",
        "plt.show()"
      ],
      "execution_count": 25,
      "outputs": [
        {
          "output_type": "display_data",
          "data": {
            "image/png": "[encoded data removed]",
            "text/plain": [
              "<Figure size 432x288 with 1 Axes>"
            ]
          },
          "metadata": {
            "tags": [],
            "needs_background": "light"
          }
        },
        {
          "output_type": "display_data",
          "data": {
            "image/png": "[encoded data removed]",
            "text/plain": [
              "<Figure size 432x288 with 1 Axes>"
            ]
          },
          "metadata": {
            "tags": [],
            "needs_background": "light"
          }
        }
      ]
    },
    {
      "cell_type": "markdown",
      "metadata": {
        "id": "0U6AbIUJhtip"
      },
      "source": [
        "# Essemble model\n"
      ]
    },
    {
      "cell_type": "markdown",
      "metadata": {
        "id": "btEuVaVXG_al"
      },
      "source": [
        "**RandomForestClassifier**"
      ]
    },
    {
      "cell_type": "code",
      "metadata": {
        "id": "5jYFOR3PoSyN"
      },
      "source": [
        "from sklearn.model_selection import train_test_split\n",
        "from sklearn.metrics import accuracy_score\n",
        "from sklearn.ensemble import RandomForestClassifier\n"
      ],
      "execution_count": null,
      "outputs": []
    },
    {
      "cell_type": "code",
      "metadata": {
        "id": "eq3s4yVRuRPF"
      },
      "source": [
        "x_train,x_test,y_train,y_test=train_test_split(x_train,y_train,test_size=0.2)"
      ],
      "execution_count": null,
      "outputs": []
    },
    {
      "cell_type": "code",
      "metadata": {
        "id": "Ccdgql68vJiv"
      },
      "source": [
        "model=RandomForestClassifier(random_state=100, n_estimators=500,max_features=32 )"
      ],
      "execution_count": null,
      "outputs": []
    },
    {
      "cell_type": "code",
      "metadata": {
        "id": "KYMfx2IyzQZt"
      },
      "source": [
        "model.fit(x_train,y_train)"
      ],
      "execution_count": null,
      "outputs": []
    },
    {
      "cell_type": "code",
      "metadata": {
        "id": "nbFP9bJTuiI7"
      },
      "source": [
        "y_pred=model.predict(x_test)"
      ],
      "execution_count": null,
      "outputs": []
    },
    {
      "cell_type": "code",
      "metadata": {
        "id": "pwIHkyeUzgxI"
      },
      "source": [
        "accuracy_score(y_test,y_pred)"
      ],
      "execution_count": null,
      "outputs": []
    },
    {
      "cell_type": "code",
      "metadata": {
        "id": "y_U58S5OC6pH"
      },
      "source": [
        "\n",
        "from sklearn.metrics import f1_score\n",
        "from sklearn.metrics import precision_score\n",
        "from sklearn.metrics import recall_score\n",
        "print('f1 score: ', format(f1_score(y_test,y_pred)))\n",
        "print('presision score: ', format( precision_score(y_test,y_pred)))\n",
        "print('recall score: ', format(recall_score(y_test,y_pred)))"
      ],
      "execution_count": null,
      "outputs": []
    },
    {
      "cell_type": "code",
      "metadata": {
        "id": "XLrD_yotOiFJ"
      },
      "source": [
        "import seaborn as sns\n",
        "import matplotlib.pyplot as plt\n",
        "from sklearn.metrics import confusion_matrix,f1_score, precision_score,recall_score\n",
        "cf_matrix =confusion_matrix(y_test,y_pred)\n",
        "\n",
        "ax= plt.subplot()\n",
        "#annot=True to annotate cells\n",
        "sns.heatmap(cf_matrix, annot=True, ax = ax,cmap='Blues',fmt='');\n",
        "# labels, title and ticks\n",
        "ax.set_xlabel('Predicted labels');\n",
        "ax.set_ylabel('True labels');\n",
        "ax.set_title('Confusion Matrix');\n",
        "ax.xaxis.set_ticklabels(['Not Spam', 'Spam']); ax.yaxis.set_ticklabels(['Not Spam', 'Spam']);\n",
        "\n"
      ],
      "execution_count": null,
      "outputs": []
    },
    {
      "cell_type": "markdown",
      "metadata": {
        "id": "X1-hP1VxGyO9"
      },
      "source": [
        "**DecisionTreeClassifier**"
      ]
    },
    {
      "cell_type": "code",
      "metadata": {
        "id": "ArA_2ij_Q-2r"
      },
      "source": [
        "from sklearn.tree import DecisionTreeClassifier\n",
        "from sklearn.model_selection import train_test_split\n",
        "from sklearn.metrics import accuracy_score"
      ],
      "execution_count": null,
      "outputs": []
    },
    {
      "cell_type": "code",
      "metadata": {
        "id": "G7obW8TvJb22"
      },
      "source": [
        "x_train,x_test,y_train,y_test=train_test_split(x_train,y_train,test_size=0.2,shuffle=False)"
      ],
      "execution_count": null,
      "outputs": []
    },
    {
      "cell_type": "code",
      "metadata": {
        "id": "UV1PRFb_RVWT"
      },
      "source": [
        "model=DecisionTreeClassifier(max_features=32)"
      ],
      "execution_count": null,
      "outputs": []
    },
    {
      "cell_type": "code",
      "metadata": {
        "id": "puVd0ifJUgwQ"
      },
      "source": [
        "model.fit(x_train,y_train)"
      ],
      "execution_count": null,
      "outputs": []
    },
    {
      "cell_type": "code",
      "metadata": {
        "id": "f3xsFhggUk6m"
      },
      "source": [
        "y_pred=model.predict(x_test)"
      ],
      "execution_count": null,
      "outputs": []
    },
    {
      "cell_type": "code",
      "metadata": {
        "id": "lsRMVLcWUnH1"
      },
      "source": [
        "accuracy_score(y_test,y_pred)"
      ],
      "execution_count": null,
      "outputs": []
    },
    {
      "cell_type": "code",
      "metadata": {
        "id": "6I9WdGM_UvEt"
      },
      "source": [
        "from sklearn.metrics import f1_score\n",
        "from sklearn.metrics import precision_score\n",
        "from sklearn.metrics import recall_score\n",
        "print('f1 score: ', format(f1_score(y_test,y_pred)))\n",
        "print('presision score: ', format( precision_score(y_test,y_pred)))\n",
        "print('recall score: ', format(recall_score(y_test,y_pred)))"
      ],
      "execution_count": null,
      "outputs": []
    },
    {
      "cell_type": "code",
      "metadata": {
        "id": "B53h8OmJeStX"
      },
      "source": [
        "import seaborn as sns\n",
        "import matplotlib.pyplot as plt\n",
        "from sklearn.metrics import confusion_matrix,f1_score, precision_score,recall_score\n",
        "cf_matrix =confusion_matrix(y_test,y_pred)\n",
        "\n",
        "ax= plt.subplot()\n",
        "#annot=True to annotate cells\n",
        "sns.heatmap(cf_matrix, annot=True, ax = ax,cmap='Blues',fmt='');\n",
        "# labels, title and ticks\n",
        "ax.set_xlabel('Predicted labels');\n",
        "ax.set_ylabel('True labels');\n",
        "ax.set_title('Confusion Matrix');\n",
        "ax.xaxis.set_ticklabels(['Not Spam', 'Spam']); ax.yaxis.set_ticklabels(['Not Spam', 'Spam']);"
      ],
      "execution_count": null,
      "outputs": []
    },
    {
      "cell_type": "markdown",
      "metadata": {
        "id": "eShW2izkGp4u"
      },
      "source": [
        "-"
      ]
    },
    {
      "cell_type": "markdown",
      "metadata": {
        "id": "3ZkPFzq7LMG7"
      },
      "source": [
        "# GradientBoostingClassifier"
      ]
    },
    {
      "cell_type": "code",
      "metadata": {
        "id": "EXiXVWGrGc_s"
      },
      "source": [
        "from sklearn.ensemble import GradientBoostingClassifier\n",
        "from sklearn.metrics import accuracy_score\n",
        "from sklearn.model_selection import train_test_split"
      ],
      "execution_count": null,
      "outputs": []
    },
    {
      "cell_type": "code",
      "metadata": {
        "id": "VEALjNtSGqrM"
      },
      "source": [
        "x_train,x_test,y_train,y_test=train_test_split(x_train,y_train,test_size=0.2,shuffle=False)"
      ],
      "execution_count": null,
      "outputs": []
    },
    {
      "cell_type": "code",
      "metadata": {
        "id": "k-4BfPW0G0ex"
      },
      "source": [
        "model = GradientBoostingClassifier()"
      ],
      "execution_count": null,
      "outputs": []
    },
    {
      "cell_type": "code",
      "metadata": {
        "id": "YqKh6p3FG47e"
      },
      "source": [
        "model.fit(x_train,y_train)"
      ],
      "execution_count": null,
      "outputs": []
    },
    {
      "cell_type": "code",
      "metadata": {
        "id": "eBqiOgkRG4-p"
      },
      "source": [
        "y_pred=model.predict(x_test)"
      ],
      "execution_count": null,
      "outputs": []
    },
    {
      "cell_type": "code",
      "metadata": {
        "id": "oCel2sC_G5EM"
      },
      "source": [
        "accuracy_score(y_test,y_pred)"
      ],
      "execution_count": null,
      "outputs": []
    },
    {
      "cell_type": "code",
      "metadata": {
        "id": "4Lj59vmDaZuz"
      },
      "source": [
        "from sklearn.metrics import f1_score\n",
        "from sklearn.metrics import precision_score\n",
        "from sklearn.metrics import recall_score\n",
        "print('f1 score: ', format(f1_score(y_test,y_pred)))\n",
        "print('presision score: ', format( precision_score(y_test,y_pred)))\n",
        "print('recall score: ', format(recall_score(y_test,y_pred)))"
      ],
      "execution_count": null,
      "outputs": []
    },
    {
      "cell_type": "code",
      "metadata": {
        "id": "0UYh_YSMLKDO"
      },
      "source": [
        "import seaborn as sns\n",
        "import matplotlib.pyplot as plt\n",
        "from sklearn.metrics import confusion_matrix,f1_score, precision_score,recall_score\n",
        "cf_matrix =confusion_matrix(y_test,y_pred)\n",
        "\n",
        "ax= plt.subplot()\n",
        "#annot=True to annotate cells\n",
        "sns.heatmap(cf_matrix, annot=True, ax = ax,cmap='Blues',fmt='');\n",
        "# labels, title and ticks\n",
        "ax.set_xlabel('Predicted labels');\n",
        "ax.set_ylabel('True labels');\n",
        "ax.set_title('Confusion Matrix');\n",
        "ax.xaxis.set_ticklabels(['Not Spam', 'Spam']); ax.yaxis.set_ticklabels(['Not Spam', 'Spam']);"
      ],
      "execution_count": null,
      "outputs": []
    }
  ]
}